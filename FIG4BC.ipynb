{
 "cells": [
  {
   "cell_type": "code",
   "execution_count": 1,
   "metadata": {},
   "outputs": [],
   "source": [
    "import networks as nt\n",
    "import numpy as np\n",
    "import matplotlib.pyplot as plt\n",
    "plt.rcParams.update({'pdf.fonttype': 42, 'ps.fonttype': 42})\n",
    "plt.rcParams.update({'font.size': 10, 'font.family': 'Helvetica'})"
   ]
  },
  {
   "cell_type": "code",
   "execution_count": 2,
   "metadata": {},
   "outputs": [],
   "source": [
    "ignore_resets = True"
   ]
  },
  {
   "cell_type": "code",
   "execution_count": 3,
   "metadata": {},
   "outputs": [],
   "source": [
    "s_mag = 5.2\n",
    "signal_noise = 0.01\n",
    "reset = 0\n",
    "threshold = 1\n",
    "lambd = 2\n",
    "ref_t = 0\n",
    "noise = 0.02\n",
    "time_r = 0.6\n",
    "time_c = 2\n",
    "dt = 2e-5\n",
    "seed = 1\n",
    "np.random.seed(seed)\n",
    "marker_size = 1\n",
    "m_alpha = 0.01"
   ]
  },
  {
   "cell_type": "code",
   "execution_count": 4,
   "metadata": {},
   "outputs": [],
   "source": [
    "T_r = int(time_r / dt)\n",
    "T_c = int(time_c / dt)"
   ]
  },
  {
   "cell_type": "code",
   "execution_count": 5,
   "metadata": {},
   "outputs": [],
   "source": [
    "def sim_current(F, Omega, Th, X, dt, dV, lambd, R0, V0, ref_t=0.003, seed=1):\n",
    "    '''\n",
    "    Inputs: \n",
    "        F: (N, M) array. Encoding Weights. N is the number of neurons and M is the signal dimension\n",
    "        Omega: (N, N) array. Recurrent Connections. N is the number of neurons\n",
    "        Th: (N,) array. Neuron Thresholds. N is the number of neurons\n",
    "        X: (T, M) array. Signal to be represented. T is the number of time steps and M is the signal dimension\n",
    "        dt: scalar. Time step of the simulation\n",
    "        dV: (T, N) array. Additive term on the voltages traces (should already be multiplied by the time step)\n",
    "        lambd: positive scalar. Decoder time constant\n",
    "        R0: (N,) array. Initial Rate Values\n",
    "        V0: (N,) array. Initial Voltage values\n",
    "        ref_t: non-negative scalar. refractory period duration in seconds\n",
    "    Outputs:\n",
    "        R: ((T + jump - 1) // jump, N) array. Firing Rates approximation of each neuron. T is the number of time steps and N is the number of neurons\n",
    "        Spikes: list of lists. Each element in Spikes is a list containing the simulation time where that neuron fired\n",
    "        Rn: (N,) array. Final Rates of the simulation\n",
    "        Vn: (N,) array. Final Voltages of the simulation\n",
    "    '''\n",
    "    np.random.seed(seed)\n",
    "    ref = max(int(np.ceil(ref_t / dt)), 1) # minimum number of time steps between same-neuron spikes\n",
    "    dtlamb = 1 - dt * lambd\n",
    "    N = F.shape[0]  # N is the number of Neurons\n",
    "    T = X.shape[0]  # T is the total time iterations\n",
    "    Vc = V0.copy() # Array with the current Voltages\n",
    "    Rc = R0.copy() # Array with the current Rates\n",
    "    R = np.zeros((T, N))  # Array with the approximation of the firing rates\n",
    "    Spikes = [[] for i in range(N)]  # list of lenght Neurons of list of lenght no_spikes\n",
    "    FX = np.dot(X, F.T)  # Network inputs\n",
    "    Ref = -1 * np.ones(N)\n",
    "    Th_c = Th\n",
    "    saturation = np.zeros(N)\n",
    "    BAL = np.zeros((T, N, 2))\n",
    "    FF = np.zeros((T, N))\n",
    "    REC = np.zeros((T, N))\n",
    "    SELF = np.zeros((T, N))\n",
    "    for i in range(T):\n",
    "        # SN is a list containing neurons that should fire\n",
    "        VR = ((Vc > Th_c) & (Ref <= 0))\n",
    "        while np.any(VR):\n",
    "            SN = np.where(VR)[0]\n",
    "            SNN = np.where(Vc[SN] == np.max(Vc[SN]))[0]\n",
    "            sn = SN[np.random.choice(SNN)]\n",
    "            Rc[sn] += 1\n",
    "            Spikes[sn].append(i)\n",
    "            Ref[sn] = ref\n",
    "            # Adding the resets of each spike through Omega\n",
    "            Vc -= Omega[:, sn]\n",
    "            BAL[i, :, 0] += np.minimum(-Omega[:, sn], 0)\n",
    "            REC[i, :] -= Omega[:, sn]\n",
    "            REC[i, sn] += Omega[sn, sn]\n",
    "            SELF[i, sn] -= Omega[sn, sn]\n",
    "            if ignore_resets:\n",
    "                BAL[i, sn, 0] += Omega[sn, sn]\n",
    "            BAL[i, :, 1] += np.maximum(-Omega[:, sn], 0)\n",
    "            VR = ((Vc > Th_c) & (Ref <= 0))\n",
    "        if np.any(Vc > Th_c):\n",
    "            for j in range(N):\n",
    "                if Vc[j] > Th_c[j]:\n",
    "                    saturation[j] += 1\n",
    "        Rc *= dtlamb\n",
    "        Vc = dtlamb * Vc + dt * FX[i, :] + dV[i, :]\n",
    "        FF[i, :] = dt * FX[i, :] + dV[i, :]\n",
    "        BAL[i, :, 0] += np.minimum(dt * FX[i, :], 0)\n",
    "        BAL[i, :, 1] += np.maximum(dt * FX[i, :], 0)\n",
    "        Ref -= 1\n",
    "        R[i, :] = Rc\n",
    "    print('dt', dt, 'ref', ref, 'delay', 0, 'N', N, 'most saturated neuron: ', np.max(saturation) / T, 'average saturated neuron:', np.mean(saturation) / T)\n",
    "    return R, Spikes, BAL, FF, REC, SELF, Rc, Vc"
   ]
  },
  {
   "cell_type": "code",
   "execution_count": 6,
   "metadata": {},
   "outputs": [],
   "source": [
    "def plot(neuron2plot, ll, ul, min_psp='', max_psp=''):\n",
    "    color_sr = '#bcdbb2'\n",
    "    color_ff = '#c83839'\n",
    "    color_rec = '#6a99cc'\n",
    "    dashes = [0.5, 0.5]\n",
    "    lw = 0.5\n",
    "    if min_psp == '':\n",
    "        zorder = [1, 2, 3, 4, 5, 6]\n",
    "    else:\n",
    "        zorder = [4, 2, 1, 5, 6, 3]\n",
    "    scale = 0.31\n",
    "    no_plots = 4\n",
    "    fig, ax = plt.subplots(no_plots, 1, figsize=(scale * 6, scale * 1.5 * (no_plots + 3)), gridspec_kw={'height_ratios': [1, 1, 1, 4]})\n",
    "\n",
    "    ax_raster = ax[0]\n",
    "    ax_ind = ax[1]\n",
    "    ax_psp = ax[2]\n",
    "    ax_bb = ax[3]\n",
    "\n",
    "    no_spn = len(spiking_neurons)\n",
    "    for i, sn in enumerate(spiking_neurons):\n",
    "        array_spikes = Spikes[sn]\n",
    "        if sn == neuron2plot:\n",
    "            ax_raster.plot(array_spikes, i * np.ones(len(array_spikes)), '|', color=color_sr, markersize=2)\n",
    "        else:\n",
    "            ax_raster.plot(array_spikes, i * np.ones(len(array_spikes)), '|', color='black', markersize=2)\n",
    "    ax_raster.set_ylim([-0.5, no_spn - 0.5])\n",
    "    ax_raster.set_xlim([15000, FF.shape[0] + 1])\n",
    "    ax_raster.set_xticks([])\n",
    "    ax_raster.set_yticks([])\n",
    "    ax_raster.spines['right'].set_visible(False)\n",
    "    ax_raster.spines['top'].set_visible(False)\n",
    "    ax_raster.spines['left'].set_visible(False)\n",
    "    ax_raster.spines['bottom'].set_visible(False)\n",
    "\n",
    "    filter_exp = np.exp(-0.1 * np.linspace(0, 40, 20000))\n",
    "    filter_exp /= np.sum(filter_exp)\n",
    "    rec = np.convolve(REC[:, neuron2plot], filter_exp)[:T_c]\n",
    "    sr = np.convolve(SELF[:, neuron2plot], filter_exp)[:T_c]\n",
    "    ffff = np.convolve(FF[:, neuron2plot], filter_exp)[:T_c]\n",
    "\n",
    "    ax_ind.plot(sr, color=color_sr, dashes=dashes, zorder = zorder[3], lw=lw)\n",
    "    ax_ind.plot(ffff, color=color_ff, dashes=dashes, zorder = zorder[4], lw=lw)\n",
    "    ax_ind.plot(rec, color=color_rec, dashes=dashes, zorder = zorder[5], lw=lw)\n",
    "    ax_ind.set_xlim([15000, FF.shape[0] + 1])\n",
    "    ax_ind.set_xticks([])\n",
    "    ax_ind.set_yticks([0])\n",
    "    if min_psp == '':\n",
    "        ax_ind.yaxis.tick_right()\n",
    "    ax_ind.axhline(color='black', lw=2/3)\n",
    "    ax_ind.spines['right'].set_visible(False)\n",
    "    ax_ind.spines['top'].set_visible(False)\n",
    "    ax_ind.spines['left'].set_visible(False)\n",
    "    ax_ind.spines['bottom'].set_visible(False)\n",
    "\n",
    "    PSP = ffff + rec\n",
    "    filter_exp_large = np.exp(-np.linspace(0, 10, 100000))\n",
    "    filter_exp_large /= 1000\n",
    "    PSP_f = np.convolve(PSP, filter_exp_large)[:T_c]\n",
    "    \n",
    "    ax_psp.plot(PSP_f, dashes=dashes, lw=lw)\n",
    "    ax_psp.axhline(color='black', lw=2/3)\n",
    "    \n",
    "    if min_psp == '':\n",
    "        ax_psp.yaxis.tick_right()\n",
    "    if min_psp == '':\n",
    "        min_psp = np.min(PSP) - 0.001\n",
    "    if max_psp == '':\n",
    "        max_psp = np.max(PSP_f) + 0.001\n",
    "    ax_psp.set_ylim([min_psp, max_psp])\n",
    "    ax_psp.set_xlim([15000, FF.shape[0] + 1])\n",
    "    ax_psp.set_xticks([])\n",
    "    ax_psp.set_yticks([0])\n",
    "    ax_psp.spines['right'].set_visible(False)\n",
    "    ax_psp.spines['top'].set_visible(False)\n",
    "    ax_psp.spines['left'].set_visible(False)\n",
    "    ax_psp.spines['bottom'].set_visible(False)\n",
    "\n",
    "\n",
    "    ax_bb.plot(Xh_c[ll:ul, 0], Xh_c[ll:ul, 1])\n",
    "    ax_bb.plot(Xh_c[ll, 0], Xh_c[ll, 1], '.')\n",
    "    ax_bb.plot(X[0, 0], X[0, 1], '+')\n",
    "    if N == 5:\n",
    "        for i in range(N):\n",
    "            c_p = X[0, :] - threshold * F[i, :]\n",
    "            ax_bb.plot(c_p[0] + np.array([-1, 1]) * F[i, 1], c_p[1] - np.array([-1, 1]) * F[i, 0])\n",
    "    else:\n",
    "        for i in [50, 150, 250, 350]:\n",
    "            c_p = X[0, :] - threshold * F[i, :]\n",
    "            ax_bb.plot(c_p[0] + np.array([-1, 1]) * F[i, 1], c_p[1] - np.array([-1, 1]) * F[i, 0])\n",
    "        for i in spiking_neurons:\n",
    "            c_p = X[0, :] - threshold * F[i, :]\n",
    "            ax_bb.plot(c_p[0] + np.array([-1, 1]) * F[i, 1], c_p[1] - np.array([-1, 1]) * F[i, 0])\n",
    "    ax_bb.spines['right'].set_visible(False)\n",
    "    ax_bb.spines['top'].set_visible(False)\n",
    "    ax_bb.spines['left'].set_visible(False)\n",
    "    ax_bb.spines['bottom'].set_visible(False)\n",
    "    ax_bb.set_xticks([])\n",
    "    ax_bb.set_yticks([])\n",
    "    \n",
    "    ax_bb.set_xlabel('$x_1$')\n",
    "    ax_bb.set_ylabel('$x_2$')\n",
    "    ax_bb.set_aspect('equal')\n",
    "\n",
    "    fig.tight_layout(rect=[0, 0, 1, 1])\n",
    "    if ul == 40000:\n",
    "        letter = 'B'\n",
    "    else:\n",
    "        letter = 'C'\n",
    "    fig.savefig('FIG4{}.pdf'.format(letter))\n",
    "    return min_psp, max_psp"
   ]
  },
  {
   "cell_type": "code",
   "execution_count": 7,
   "metadata": {},
   "outputs": [],
   "source": [
    "N = 5\n",
    "angles = np.linspace(0, 2 * np.pi, num = N + 1) + np.pi\n",
    "D = np.zeros((2, N))\n",
    "D[0, :] = np.cos(angles[:-1])\n",
    "D[1, :] = np.sin(angles[:-1])\n",
    "F = D.copy().T\n",
    "Omega = np.dot(D.T, D)\n",
    "for i in range(N):\n",
    "    Omega[i, i] *= 2 ** reset\n",
    "Th = threshold * np.ones(N)\n",
    "\n",
    "angle = 2 * np.pi / 15\n",
    "x = s_mag * np.array([np.cos(angle), np.sin(angle)])\n",
    "X_r = np.outer(np.linspace(0, 1, T_r + 1), x)\n",
    "C_r = np.diff(X_r.T).T / dt\n",
    "X_r = X_r[:-1, :]"
   ]
  },
  {
   "cell_type": "code",
   "execution_count": 8,
   "metadata": {},
   "outputs": [
    {
     "name": "stdout",
     "output_type": "stream",
     "text": [
      "dt 2e-05 ref 1 delay 0 N 5 most saturated neuron:  0.0 average saturated neuron: 0.0\n",
      "dt 2e-05 ref 1 delay 0 N 5 most saturated neuron:  0.0 average saturated neuron: 0.0\n"
     ]
    }
   ],
   "source": [
    "C_r += lambd * X_r\n",
    "dV_r = np.sqrt(dt) * noise * np.random.randn(T_r, N)\n",
    "R_r, Spikes_r, BAL_r, FF_r, REC_r, SELF_r, R0, V0 = sim_current(F, Omega, Th, C_r, dt, dV_r, lambd, np.zeros(N), np.zeros(N), ref_t=ref_t, seed=seed)\n",
    "Xh_r = np.dot(R_r, D.T)\n",
    "\n",
    "X = nt.constant_signal(x, T_c, dt, signal_noise=signal_noise, seed=seed)\n",
    "C = lambd * X\n",
    "dV = np.sqrt(dt) * noise * np.random.randn(T_c, N)\n",
    "R, Spikes, BAL, FF, REC, SELF, R0, V0 = sim_current(F, Omega, Th, C, dt, dV, lambd, R0, V0, ref_t=ref_t, seed=seed)\n",
    "\n",
    "spiking_neurons = [i for i in range(N) if len(Spikes[i])>0]\n",
    "\n",
    "Xh_c = np.dot(R, D.T)"
   ]
  },
  {
   "cell_type": "code",
   "execution_count": 9,
   "metadata": {},
   "outputs": [
    {
     "data": {
      "image/png": "[encoded data removed]",
      "text/plain": [
       "<Figure size 133.92x234.36 with 4 Axes>"
      ]
     },
     "metadata": {
      "needs_background": "light"
     },
     "output_type": "display_data"
    }
   ],
   "source": [
    "min_psp, max_psp = plot(3, 20000, 40000)"
   ]
  },
  {
   "cell_type": "code",
   "execution_count": 10,
   "metadata": {},
   "outputs": [
    {
     "name": "stdout",
     "output_type": "stream",
     "text": [
      "dt 2e-05 ref 1 delay 0 N 600 most saturated neuron:  0.0 average saturated neuron: 0.0\n",
      "dt 2e-05 ref 1 delay 0 N 600 most saturated neuron:  0.0 average saturated neuron: 0.0\n"
     ]
    }
   ],
   "source": [
    "angle = np.pi * 8 / 16\n",
    "angle = np.pi * 12 / 16\n",
    "x = s_mag * np.array([np.cos(angle), np.sin(angle)])\n",
    "X_r = np.outer(np.linspace(0, 1, T_r + 1), x)\n",
    "C_r = np.diff(X_r.T).T / dt\n",
    "X_r = X_r[:-1, :]\n",
    "C_r += lambd * X_r\n",
    "\n",
    "threshold = 1\n",
    "N = 600\n",
    "F, Omega, Th, D = nt.create_param(2, N, threshold=threshold, reset=reset, seed_network=seed, regular=True)\n",
    "dV_r = np.sqrt(dt) * noise * np.random.randn(T_r, N)\n",
    "R_r, Spikes_r, BAL_r, FF_r, REC_r, SELF_r, R0, V0 = sim_current(F, Omega, Th, C_r, dt, dV_r, lambd, np.zeros(N), np.zeros(N), ref_t=ref_t, seed=seed)\n",
    "Xh_r = np.dot(R_r, D.T)\n",
    "\n",
    "\n",
    "X = nt.constant_signal(x, T_c, dt, signal_noise=signal_noise, seed=seed)\n",
    "C = lambd * X\n",
    "dV = np.sqrt(dt) * noise * np.random.randn(T_c, N)\n",
    "R, Spikes, BAL, FF, REC, SELF, R0, V0 = sim_current(F, Omega, Th, C, dt, dV, lambd, R0, V0, ref_t=ref_t, seed=seed)\n",
    "\n",
    "spiking_neurons = [i for i in range(N) if len(Spikes[i])>0]\n",
    "\n",
    "Xh_c = np.dot(R, D.T)"
   ]
  },
  {
   "cell_type": "code",
   "execution_count": 11,
   "metadata": {},
   "outputs": [
    {
     "data": {
      "text/plain": [
       "(-0.0009999410021526856, 0.0030121970053980287)"
      ]
     },
     "execution_count": 11,
     "metadata": {},
     "output_type": "execute_result"
    },
    {
     "data": {
      "image/png": "[encoded data removed]",
      "text/plain": [
       "<Figure size 133.92x234.36 with 4 Axes>"
      ]
     },
     "metadata": {
      "needs_background": "light"
     },
     "output_type": "display_data"
    }
   ],
   "source": [
    "plot(spiking_neurons[3], 50000, 75000, min_psp, max_psp)"
   ]
  },
  {
   "cell_type": "code",
   "execution_count": null,
   "metadata": {},
   "outputs": [],
   "source": []
  }
 ],
 "metadata": {
  "kernelspec": {
   "display_name": "Python 3",
   "language": "python",
   "name": "python3"
  },
  "language_info": {
   "codemirror_mode": {
    "name": "ipython",
    "version": 3
   },
   "file_extension": ".py",
   "mimetype": "text/x-python",
   "name": "python",
   "nbconvert_exporter": "python",
   "pygments_lexer": "ipython3",
   "version": "3.7.10"
  }
 },
 "nbformat": 4,
 "nbformat_minor": 2
}
